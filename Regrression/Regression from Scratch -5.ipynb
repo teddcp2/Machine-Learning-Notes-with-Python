{
 "cells": [
  {
   "cell_type": "markdown",
   "id": "c68e5330",
   "metadata": {},
   "source": [
    "# Algorithms from Scatch\n",
    "--------------------------------------------------\n",
    "\n",
    "### Simple Linear Regression\n",
    "\n",
    "- [variance and covariance in SLR](https://stats.stackexchange.com/a/229383/279934)\n",
    "- [covariance and corelation](https://www.pythonfordatascience.org/variance-covariance-correlation/)\n",
    "- [numpy functions](https://machinelearningmastery.com/introduction-to-expected-value-variance-and-covariance/)\n",
    "- [Github Reference](https://github.com/lazyprogrammer/machine_learning_examples/blob/master/linear_regression_class/lr_1d.py)\n",
    "\n",
    "- [Different co-relation methods](https://www.statisticssolutions.com/correlation-pearson-kendall-spearman/)\n",
    "\n",
    "### Assumptions of LR\n",
    "\n",
    "- [Assumptions on LR](https://www.analyticsvidhya.com/blog/2016/07/deeper-regression-analysis-assumptions-plots-solutions/?utm_source=blog&utm_medium=one-hot-encoding-vs-label-encoding-using-scikit-learn)\n",
    "\n",
    "### Dummy Encoding vs One Hot Encoding\n",
    "\n",
    "- [Linear Regression and non-invertibility](https://stats.stackexchange.com/a/69537/279934)\n",
    "- [Multi-coLinearity and Singularity](https://stats.stackexchange.com/a/70910/279934)\n",
    "- [One hot encoding vs dummy encoding](https://stats.stackexchange.com/q/224051/279934) and [link2](https://stats.stackexchange.com/a/290569/279934)\n",
    "- [understanding dummy variable trap](https://www.algosome.com/articles/dummy-variable-trap-regression.html)\n",
    "- [ OHE with sklearn](https://www.analyticsvidhya.com/blog/2020/03/one-hot-encoding-vs-label-encoding-using-scikit-learn/)\n",
    "\n",
    "- [understanding co-linearity](https://stats.stackexchange.com/q/221902/279934)\n",
    "- [encoding leads to singularities](https://stats.stackexchange.com/a/70700/279934)\n",
    "- [understanding dummy variable trap](https://stats.stackexchange.com/q/340368/279934)\n",
    "    "
   ]
  },
  {
   "cell_type": "markdown",
   "id": "949b4f9f",
   "metadata": {},
   "source": [
    "### Simple Linear Regression"
   ]
  },
  {
   "cell_type": "code",
   "execution_count": 1,
   "id": "acbb8305",
   "metadata": {},
   "outputs": [],
   "source": [
    "import pandas as pd\n",
    "import numpy as np\n",
    "import matplotlib.pyplot as plt"
   ]
  },
  {
   "cell_type": "code",
   "execution_count": 2,
   "id": "8125cf05",
   "metadata": {},
   "outputs": [
    {
     "data": {
      "text/html": [
       "<div>\n",
       "<style scoped>\n",
       "    .dataframe tbody tr th:only-of-type {\n",
       "        vertical-align: middle;\n",
       "    }\n",
       "\n",
       "    .dataframe tbody tr th {\n",
       "        vertical-align: top;\n",
       "    }\n",
       "\n",
       "    .dataframe thead th {\n",
       "        text-align: right;\n",
       "    }\n",
       "</style>\n",
       "<table border=\"1\" class=\"dataframe\">\n",
       "  <thead>\n",
       "    <tr style=\"text-align: right;\">\n",
       "      <th></th>\n",
       "      <th>x</th>\n",
       "      <th>y</th>\n",
       "    </tr>\n",
       "  </thead>\n",
       "  <tbody>\n",
       "    <tr>\n",
       "      <th>0</th>\n",
       "      <td>95.724162</td>\n",
       "      <td>197.179636</td>\n",
       "    </tr>\n",
       "    <tr>\n",
       "      <th>1</th>\n",
       "      <td>35.757619</td>\n",
       "      <td>67.590670</td>\n",
       "    </tr>\n",
       "    <tr>\n",
       "      <th>2</th>\n",
       "      <td>28.816847</td>\n",
       "      <td>60.854133</td>\n",
       "    </tr>\n",
       "    <tr>\n",
       "      <th>3</th>\n",
       "      <td>99.958481</td>\n",
       "      <td>196.907397</td>\n",
       "    </tr>\n",
       "    <tr>\n",
       "      <th>4</th>\n",
       "      <td>66.809748</td>\n",
       "      <td>125.311129</td>\n",
       "    </tr>\n",
       "  </tbody>\n",
       "</table>\n",
       "</div>"
      ],
      "text/plain": [
       "           x           y\n",
       "0  95.724162  197.179636\n",
       "1  35.757619   67.590670\n",
       "2  28.816847   60.854133\n",
       "3  99.958481  196.907397\n",
       "4  66.809748  125.311129"
      ]
     },
     "execution_count": 2,
     "metadata": {},
     "output_type": "execute_result"
    }
   ],
   "source": [
    "data= pd.read_csv(\"./DataSets/data_1d.csv\", header= None, names= [\"x\", \"y\"])\n",
    "data.head()"
   ]
  },
  {
   "cell_type": "code",
   "execution_count": 3,
   "id": "6ca752e4",
   "metadata": {},
   "outputs": [
    {
     "name": "stdout",
     "output_type": "stream",
     "text": [
      "<class 'pandas.core.frame.DataFrame'>\n",
      "RangeIndex: 100 entries, 0 to 99\n",
      "Data columns (total 2 columns):\n",
      " #   Column  Non-Null Count  Dtype  \n",
      "---  ------  --------------  -----  \n",
      " 0   x       100 non-null    float64\n",
      " 1   y       100 non-null    float64\n",
      "dtypes: float64(2)\n",
      "memory usage: 1.7 KB\n"
     ]
    }
   ],
   "source": [
    "data.info()"
   ]
  },
  {
   "cell_type": "code",
   "execution_count": 4,
   "id": "c83342fe",
   "metadata": {},
   "outputs": [
    {
     "data": {
      "text/html": [
       "<div>\n",
       "<style scoped>\n",
       "    .dataframe tbody tr th:only-of-type {\n",
       "        vertical-align: middle;\n",
       "    }\n",
       "\n",
       "    .dataframe tbody tr th {\n",
       "        vertical-align: top;\n",
       "    }\n",
       "\n",
       "    .dataframe thead th {\n",
       "        text-align: right;\n",
       "    }\n",
       "</style>\n",
       "<table border=\"1\" class=\"dataframe\">\n",
       "  <thead>\n",
       "    <tr style=\"text-align: right;\">\n",
       "      <th></th>\n",
       "      <th>x</th>\n",
       "      <th>y</th>\n",
       "    </tr>\n",
       "  </thead>\n",
       "  <tbody>\n",
       "    <tr>\n",
       "      <th>count</th>\n",
       "      <td>100.000000</td>\n",
       "      <td>100.000000</td>\n",
       "    </tr>\n",
       "    <tr>\n",
       "      <th>mean</th>\n",
       "      <td>53.037609</td>\n",
       "      <td>107.487058</td>\n",
       "    </tr>\n",
       "    <tr>\n",
       "      <th>std</th>\n",
       "      <td>26.901052</td>\n",
       "      <td>53.300817</td>\n",
       "    </tr>\n",
       "    <tr>\n",
       "      <th>min</th>\n",
       "      <td>3.211249</td>\n",
       "      <td>6.434372</td>\n",
       "    </tr>\n",
       "    <tr>\n",
       "      <th>25%</th>\n",
       "      <td>35.154615</td>\n",
       "      <td>67.274717</td>\n",
       "    </tr>\n",
       "    <tr>\n",
       "      <th>50%</th>\n",
       "      <td>54.307469</td>\n",
       "      <td>110.830030</td>\n",
       "    </tr>\n",
       "    <tr>\n",
       "      <th>75%</th>\n",
       "      <td>77.553721</td>\n",
       "      <td>154.863216</td>\n",
       "    </tr>\n",
       "    <tr>\n",
       "      <th>max</th>\n",
       "      <td>99.958481</td>\n",
       "      <td>197.179636</td>\n",
       "    </tr>\n",
       "  </tbody>\n",
       "</table>\n",
       "</div>"
      ],
      "text/plain": [
       "                x           y\n",
       "count  100.000000  100.000000\n",
       "mean    53.037609  107.487058\n",
       "std     26.901052   53.300817\n",
       "min      3.211249    6.434372\n",
       "25%     35.154615   67.274717\n",
       "50%     54.307469  110.830030\n",
       "75%     77.553721  154.863216\n",
       "max     99.958481  197.179636"
      ]
     },
     "execution_count": 4,
     "metadata": {},
     "output_type": "execute_result"
    }
   ],
   "source": [
    "data.describe()"
   ]
  },
  {
   "cell_type": "code",
   "execution_count": 5,
   "id": "1693e30a",
   "metadata": {},
   "outputs": [
    {
     "data": {
      "text/plain": [
       "<AxesSubplot:xlabel='x', ylabel='y'>"
      ]
     },
     "execution_count": 5,
     "metadata": {},
     "output_type": "execute_result"
    },
    {
     "data": {
      "image/png": "[encoded data removed]",
      "text/plain": [
       "<Figure size 432x288 with 1 Axes>"
      ]
     },
     "metadata": {
      "needs_background": "light"
     },
     "output_type": "display_data"
    }
   ],
   "source": [
    "data.plot.scatter(\"x\", \"y\")"
   ]
  },
  {
   "cell_type": "code",
   "execution_count": 11,
   "id": "25384b1a",
   "metadata": {},
   "outputs": [
    {
     "data": {
      "text/plain": [
       "(1.972612167484593, 2.8644240756605517)"
      ]
     },
     "execution_count": 11,
     "metadata": {},
     "output_type": "execute_result"
    }
   ],
   "source": [
    "X = data[\"x\"]\n",
    "Y = data[\"y\"]\n",
    "\n",
    "denominator= X.dot(X) - X.mean() * X.sum()\n",
    "\n",
    "a = ( X.dot(Y) - Y.mean()*X.sum() ) / denominator\n",
    "b = ( Y.mean() * X.dot(X) - X.mean() * X.dot(Y) ) / denominator\n",
    "\n",
    "a,b"
   ]
  },
  {
   "cell_type": "code",
   "execution_count": 15,
   "id": "1965cac0",
   "metadata": {},
   "outputs": [
    {
     "data": {
      "text/plain": [
       "(1.9925375429137338, 1.8076297960381993)"
      ]
     },
     "execution_count": 15,
     "metadata": {},
     "output_type": "execute_result"
    }
   ],
   "source": [
    "######################\n",
    "## Alternative way\n",
    "## with covariance and variance way\n",
    "######################\n",
    "\n",
    "a= np.cov(X,Y)[0,1] / np.var(X)\n",
    "b= Y.mean() - a * X.mean()\n",
    "\n",
    "a,b"
   ]
  },
  {
   "cell_type": "code",
   "execution_count": 16,
   "id": "33603a31",
   "metadata": {},
   "outputs": [
    {
     "data": {
      "image/png": "[encoded data removed]",
      "text/plain": [
       "<Figure size 432x288 with 1 Axes>"
      ]
     },
     "metadata": {
      "needs_background": "light"
     },
     "output_type": "display_data"
    }
   ],
   "source": [
    "# let's calculate the predicted Y\n",
    "Yhat = a*X + b\n",
    "\n",
    "# let's plot everything together to make sure it worked\n",
    "plt.scatter(X, Y)\n",
    "plt.plot(X, Yhat, c='r')\n",
    "plt.show()"
   ]
  },
  {
   "cell_type": "code",
   "execution_count": 17,
   "id": "d21d718c",
   "metadata": {},
   "outputs": [
    {
     "name": "stdout",
     "output_type": "stream",
     "text": [
      "the r-squared is: 0.9910826894111059\n"
     ]
    }
   ],
   "source": [
    "# determine how good the model is by computing the r-squared\n",
    "d1 = Y - Yhat\n",
    "d2 = Y - Y.mean()\n",
    "r2 = 1 - d1.dot(d1) / d2.dot(d2)\n",
    "print(\"the r-squared is:\", r2)"
   ]
  },
  {
   "cell_type": "markdown",
   "id": "c2f3f4cf",
   "metadata": {},
   "source": [
    "### Multiple Linear Regression\n",
    "\n",
    "- [link](https://github.com/lazyprogrammer/machine_learning_examples/blob/master/linear_regression_class/lr_2d.py)"
   ]
  },
  {
   "cell_type": "code",
   "execution_count": 28,
   "id": "2e149446",
   "metadata": {},
   "outputs": [
    {
     "data": {
      "text/html": [
       "<div>\n",
       "<style scoped>\n",
       "    .dataframe tbody tr th:only-of-type {\n",
       "        vertical-align: middle;\n",
       "    }\n",
       "\n",
       "    .dataframe tbody tr th {\n",
       "        vertical-align: top;\n",
       "    }\n",
       "\n",
       "    .dataframe thead th {\n",
       "        text-align: right;\n",
       "    }\n",
       "</style>\n",
       "<table border=\"1\" class=\"dataframe\">\n",
       "  <thead>\n",
       "    <tr style=\"text-align: right;\">\n",
       "      <th></th>\n",
       "      <th>x1</th>\n",
       "      <th>x2</th>\n",
       "      <th>y</th>\n",
       "      <th>bias</th>\n",
       "    </tr>\n",
       "  </thead>\n",
       "  <tbody>\n",
       "    <tr>\n",
       "      <th>0</th>\n",
       "      <td>17.930201</td>\n",
       "      <td>94.520592</td>\n",
       "      <td>320.259530</td>\n",
       "      <td>1</td>\n",
       "    </tr>\n",
       "    <tr>\n",
       "      <th>1</th>\n",
       "      <td>97.144697</td>\n",
       "      <td>69.593282</td>\n",
       "      <td>404.634472</td>\n",
       "      <td>1</td>\n",
       "    </tr>\n",
       "    <tr>\n",
       "      <th>2</th>\n",
       "      <td>81.775901</td>\n",
       "      <td>5.737648</td>\n",
       "      <td>181.485108</td>\n",
       "      <td>1</td>\n",
       "    </tr>\n",
       "    <tr>\n",
       "      <th>3</th>\n",
       "      <td>55.854342</td>\n",
       "      <td>70.325902</td>\n",
       "      <td>321.773638</td>\n",
       "      <td>1</td>\n",
       "    </tr>\n",
       "    <tr>\n",
       "      <th>4</th>\n",
       "      <td>49.366550</td>\n",
       "      <td>75.114040</td>\n",
       "      <td>322.465486</td>\n",
       "      <td>1</td>\n",
       "    </tr>\n",
       "  </tbody>\n",
       "</table>\n",
       "</div>"
      ],
      "text/plain": [
       "          x1         x2           y  bias\n",
       "0  17.930201  94.520592  320.259530     1\n",
       "1  97.144697  69.593282  404.634472     1\n",
       "2  81.775901   5.737648  181.485108     1\n",
       "3  55.854342  70.325902  321.773638     1\n",
       "4  49.366550  75.114040  322.465486     1"
      ]
     },
     "execution_count": 28,
     "metadata": {},
     "output_type": "execute_result"
    }
   ],
   "source": [
    "data= pd.read_csv(\"./DataSets/data_2d.csv\", header= None, names= [\"x1\",\"x2\",\"y\"], index_col=None)\n",
    "data[\"bias\"]= 1\n",
    "data.head()"
   ]
  },
  {
   "cell_type": "code",
   "execution_count": 29,
   "id": "e9b1895c",
   "metadata": {},
   "outputs": [
    {
     "data": {
      "text/html": [
       "<div>\n",
       "<style scoped>\n",
       "    .dataframe tbody tr th:only-of-type {\n",
       "        vertical-align: middle;\n",
       "    }\n",
       "\n",
       "    .dataframe tbody tr th {\n",
       "        vertical-align: top;\n",
       "    }\n",
       "\n",
       "    .dataframe thead th {\n",
       "        text-align: right;\n",
       "    }\n",
       "</style>\n",
       "<table border=\"1\" class=\"dataframe\">\n",
       "  <thead>\n",
       "    <tr style=\"text-align: right;\">\n",
       "      <th></th>\n",
       "      <th>x1</th>\n",
       "      <th>x2</th>\n",
       "      <th>y</th>\n",
       "      <th>bias</th>\n",
       "    </tr>\n",
       "  </thead>\n",
       "  <tbody>\n",
       "    <tr>\n",
       "      <th>count</th>\n",
       "      <td>100.000000</td>\n",
       "      <td>100.000000</td>\n",
       "      <td>100.000000</td>\n",
       "      <td>100.0</td>\n",
       "    </tr>\n",
       "    <tr>\n",
       "      <th>mean</th>\n",
       "      <td>47.977794</td>\n",
       "      <td>56.271284</td>\n",
       "      <td>265.334490</td>\n",
       "      <td>1.0</td>\n",
       "    </tr>\n",
       "    <tr>\n",
       "      <th>std</th>\n",
       "      <td>29.776540</td>\n",
       "      <td>30.218386</td>\n",
       "      <td>106.375043</td>\n",
       "      <td>0.0</td>\n",
       "    </tr>\n",
       "    <tr>\n",
       "      <th>min</th>\n",
       "      <td>1.382983</td>\n",
       "      <td>0.127891</td>\n",
       "      <td>43.915692</td>\n",
       "      <td>1.0</td>\n",
       "    </tr>\n",
       "    <tr>\n",
       "      <th>25%</th>\n",
       "      <td>21.695463</td>\n",
       "      <td>32.510100</td>\n",
       "      <td>177.063748</td>\n",
       "      <td>1.0</td>\n",
       "    </tr>\n",
       "    <tr>\n",
       "      <th>50%</th>\n",
       "      <td>48.401451</td>\n",
       "      <td>60.979979</td>\n",
       "      <td>268.342711</td>\n",
       "      <td>1.0</td>\n",
       "    </tr>\n",
       "    <tr>\n",
       "      <th>75%</th>\n",
       "      <td>72.460241</td>\n",
       "      <td>82.909369</td>\n",
       "      <td>353.787315</td>\n",
       "      <td>1.0</td>\n",
       "    </tr>\n",
       "    <tr>\n",
       "      <th>max</th>\n",
       "      <td>98.998373</td>\n",
       "      <td>99.957634</td>\n",
       "      <td>466.265806</td>\n",
       "      <td>1.0</td>\n",
       "    </tr>\n",
       "  </tbody>\n",
       "</table>\n",
       "</div>"
      ],
      "text/plain": [
       "               x1          x2           y   bias\n",
       "count  100.000000  100.000000  100.000000  100.0\n",
       "mean    47.977794   56.271284  265.334490    1.0\n",
       "std     29.776540   30.218386  106.375043    0.0\n",
       "min      1.382983    0.127891   43.915692    1.0\n",
       "25%     21.695463   32.510100  177.063748    1.0\n",
       "50%     48.401451   60.979979  268.342711    1.0\n",
       "75%     72.460241   82.909369  353.787315    1.0\n",
       "max     98.998373   99.957634  466.265806    1.0"
      ]
     },
     "execution_count": 29,
     "metadata": {},
     "output_type": "execute_result"
    }
   ],
   "source": [
    "data.describe()"
   ]
  },
  {
   "cell_type": "code",
   "execution_count": 26,
   "id": "0738bad7",
   "metadata": {},
   "outputs": [
    {
     "data": {
      "text/plain": [
       "<AxesSubplot:xlabel='x1', ylabel='y'>"
      ]
     },
     "execution_count": 26,
     "metadata": {},
     "output_type": "execute_result"
    },
    {
     "data": {
      "image/png": "[encoded data removed]",
      "text/plain": [
       "<Figure size 432x288 with 1 Axes>"
      ]
     },
     "metadata": {
      "needs_background": "light"
     },
     "output_type": "display_data"
    }
   ],
   "source": [
    "data.plot.scatter(\"x1\", \"y\" )"
   ]
  },
  {
   "cell_type": "code",
   "execution_count": 27,
   "id": "44074dde",
   "metadata": {},
   "outputs": [
    {
     "data": {
      "text/plain": [
       "<AxesSubplot:xlabel='x2', ylabel='y'>"
      ]
     },
     "execution_count": 27,
     "metadata": {},
     "output_type": "execute_result"
    },
    {
     "data": {
      "image/png": "[encoded data removed]",
      "text/plain": [
       "<Figure size 432x288 with 1 Axes>"
      ]
     },
     "metadata": {
      "needs_background": "light"
     },
     "output_type": "display_data"
    }
   ],
   "source": [
    "data.plot.scatter(\"x2\", \"y\")"
   ]
  },
  {
   "cell_type": "code",
   "execution_count": 31,
   "id": "0c534a96",
   "metadata": {},
   "outputs": [],
   "source": [
    "X= data[[\"x1\", \"x2\", \"bias\" ]]\n",
    "Y= data[\"y\"]\n",
    "\n",
    "w = np.linalg.solve(np.dot(X.T, X), np.dot(X.T, Y))\n",
    "\n",
    "Yhat = np.dot(X, w)"
   ]
  },
  {
   "cell_type": "code",
   "execution_count": 32,
   "id": "7224da58",
   "metadata": {},
   "outputs": [
    {
     "name": "stdout",
     "output_type": "stream",
     "text": [
      "the r-squared is: 0.9980040612475778\n"
     ]
    }
   ],
   "source": [
    "d1 = Y - Yhat\n",
    "d2 = Y - Y.mean()\n",
    "r2 = 1 - d1.dot(d1) / d2.dot(d2)\n",
    "print(\"the r-squared is:\", r2)"
   ]
  },
  {
   "cell_type": "markdown",
   "id": "6ab6a814",
   "metadata": {},
   "source": [
    "### polynomial Regression"
   ]
  },
  {
   "cell_type": "code",
   "execution_count": 34,
   "id": "044d96aa",
   "metadata": {},
   "outputs": [
    {
     "data": {
      "text/html": [
       "<div>\n",
       "<style scoped>\n",
       "    .dataframe tbody tr th:only-of-type {\n",
       "        vertical-align: middle;\n",
       "    }\n",
       "\n",
       "    .dataframe tbody tr th {\n",
       "        vertical-align: top;\n",
       "    }\n",
       "\n",
       "    .dataframe thead th {\n",
       "        text-align: right;\n",
       "    }\n",
       "</style>\n",
       "<table border=\"1\" class=\"dataframe\">\n",
       "  <thead>\n",
       "    <tr style=\"text-align: right;\">\n",
       "      <th></th>\n",
       "      <th>x</th>\n",
       "      <th>y</th>\n",
       "      <th>bias</th>\n",
       "      <th>x-squared</th>\n",
       "    </tr>\n",
       "  </thead>\n",
       "  <tbody>\n",
       "    <tr>\n",
       "      <th>0</th>\n",
       "      <td>76.700709</td>\n",
       "      <td>663.797276</td>\n",
       "      <td>1</td>\n",
       "      <td>5882.998700</td>\n",
       "    </tr>\n",
       "    <tr>\n",
       "      <th>1</th>\n",
       "      <td>95.273544</td>\n",
       "      <td>1014.362282</td>\n",
       "      <td>1</td>\n",
       "      <td>9077.048216</td>\n",
       "    </tr>\n",
       "    <tr>\n",
       "      <th>2</th>\n",
       "      <td>73.095723</td>\n",
       "      <td>618.938827</td>\n",
       "      <td>1</td>\n",
       "      <td>5342.984757</td>\n",
       "    </tr>\n",
       "    <tr>\n",
       "      <th>3</th>\n",
       "      <td>46.951635</td>\n",
       "      <td>288.012877</td>\n",
       "      <td>1</td>\n",
       "      <td>2204.456072</td>\n",
       "    </tr>\n",
       "    <tr>\n",
       "      <th>4</th>\n",
       "      <td>33.313748</td>\n",
       "      <td>144.977556</td>\n",
       "      <td>1</td>\n",
       "      <td>1109.805806</td>\n",
       "    </tr>\n",
       "  </tbody>\n",
       "</table>\n",
       "</div>"
      ],
      "text/plain": [
       "           x            y  bias    x-squared\n",
       "0  76.700709   663.797276     1  5882.998700\n",
       "1  95.273544  1014.362282     1  9077.048216\n",
       "2  73.095723   618.938827     1  5342.984757\n",
       "3  46.951635   288.012877     1  2204.456072\n",
       "4  33.313748   144.977556     1  1109.805806"
      ]
     },
     "execution_count": 34,
     "metadata": {},
     "output_type": "execute_result"
    }
   ],
   "source": [
    "data= pd.read_csv(\"./DataSets/data_poly.csv\", header= None, names= [\"x\",\"y\"], index_col=None)\n",
    "data[\"bias\"]= 1\n",
    "data[\"x-squared\"]= data[\"x\"] ** 2\n",
    "data.head()\n",
    "\n",
    "#  our model is therefore y_hat = w0* bias + w1 * x + w2 * x**2"
   ]
  },
  {
   "cell_type": "code",
   "execution_count": 35,
   "id": "31aa6c83",
   "metadata": {},
   "outputs": [
    {
     "data": {
      "text/plain": [
       "<AxesSubplot:xlabel='x', ylabel='y'>"
      ]
     },
     "execution_count": 35,
     "metadata": {},
     "output_type": "execute_result"
    },
    {
     "data": {
      "image/png": "[encoded data removed]",
      "text/plain": [
       "<Figure size 432x288 with 1 Axes>"
      ]
     },
     "metadata": {
      "needs_background": "light"
     },
     "output_type": "display_data"
    }
   ],
   "source": [
    "data.plot.scatter(\"x\", \"y\")"
   ]
  },
  {
   "cell_type": "code",
   "execution_count": 36,
   "id": "744190e2",
   "metadata": {},
   "outputs": [
    {
     "data": {
      "text/plain": [
       "<AxesSubplot:xlabel='x-squared', ylabel='y'>"
      ]
     },
     "execution_count": 36,
     "metadata": {},
     "output_type": "execute_result"
    },
    {
     "data": {
      "image/png": "[encoded data removed]",
      "text/plain": [
       "<Figure size 432x288 with 1 Axes>"
      ]
     },
     "metadata": {
      "needs_background": "light"
     },
     "output_type": "display_data"
    }
   ],
   "source": [
    "data.plot.scatter(\"x-squared\", \"y\")"
   ]
  },
  {
   "cell_type": "code",
   "execution_count": 38,
   "id": "6a11ed4e",
   "metadata": {},
   "outputs": [],
   "source": [
    "X = data[[\"bias\", \"x\", \"x-squared\"]]\n",
    "Y = data[\"y\"]\n",
    "\n",
    "w = np.linalg.solve(np.dot(X.T, X), np.dot(X.T, Y))"
   ]
  },
  {
   "cell_type": "code",
   "execution_count": 39,
   "id": "f8b226ab",
   "metadata": {},
   "outputs": [
    {
     "name": "stdout",
     "output_type": "stream",
     "text": [
      "the r-squared is: 0.9991412296366858\n"
     ]
    }
   ],
   "source": [
    "# determine how good the model is by computing the r-squared\n",
    "Yhat = X.dot(w)\n",
    "\n",
    "d1 = Y - Yhat\n",
    "d2 = Y - Y.mean()\n",
    "r2 = 1 - d1.dot(d1) / d2.dot(d2)\n",
    "print(\"the r-squared is:\", r2)"
   ]
  },
  {
   "cell_type": "markdown",
   "id": "110f55bd",
   "metadata": {},
   "source": [
    "## Maxmium Likelihood\n",
    "\n",
    "- minimizing the mean squared error = maximizing the log-likelihood  = maximizing the likelihood\n",
    "\n",
    "- [basic explanation](https://machinelearningmastery.com/what-is-maximum-likelihood-estimation-in-machine-learning/)\n",
    "- [why Log likelihood is taken](https://math.stackexchange.com/a/892874/900441) and [link2](https://stats.stackexchange.com/q/174481/279934)\n",
    "- [Latyman Explanation](https://stats.stackexchange.com/a/112458/279934)\n",
    "\n",
    "\n",
    "\n",
    "\n",
    "- Linear Regression with Maximum Likelihood\n",
    "    - [link](https://bjlkeng.github.io/posts/a-probabilistic-view-of-regression/)\n",
    "    - [link](https://www.probabilitycourse.com/chapter8/8_2_3_max_likelihood_estimation.php) and problem-5 of [MLE](https://www.probabilitycourse.com/chapter8/8_5_5_solved_probs.php)\n",
    "    - [MLE defintion](https://stats.stackexchange.com/a/112469/279934)\n",
    "\n",
    "\n",
    "- Log Likelihood\n",
    "    - [link](https://stackoverflow.com/a/2343144/12210002)\n",
    "    - [link2](https://stats.stackexchange.com/q/112451/279934)\n",
    "    - [Explanation-1](https://online.stat.psu.edu/stat415/lesson/1/1.2)\n",
    "    \n",
    "- Probabiltiy denstiy function\n",
    "    - [PDF](https://math.stackexchange.com/a/2447417/900441)\n",
    "    - [pdf-2](https://stats.stackexchange.com/a/242226/279934)\n",
    "    - [Probability density function for Normal distribution](https://www.geeksforgeeks.org/mathematics-probability-distributions-set-3-normal-distribution/)\n",
    "    \n",
    " \n",
    "- Extra\n",
    "    - [Likelihood vs probability](https://stats.stackexchange.com/a/2647/279934)\n",
    "    - [likelihood function vs probabilty density function](https://stats.stackexchange.com/a/31241/279934)\n",
    "    \n",
    "\n",
    "\n",
    "## Maxium a posterior (MAP)\n",
    "\n",
    "- [Probabilistic view](https://www.probabilitycourse.com/chapter9/9_1_2_MAP_estimation.php)\n",
    "- [Example](https://math.stackexchange.com/a/1582772/900441)\n",
    "- [Basic Explanation](https://machinelearningmastery.com/maximum-a-posteriori-estimation/)\n",
    "- [Understanding Normal Dsitribution](https://www.probabilitycourse.com/chapter4/4_2_3_normal.php)\n",
    "\n",
    "- MAP vs MLE \n",
    "    * [link1](https://math.stackexchange.com/a/2609737/900441), \n",
    "    * [link2](https://math.stackexchange.com/a/2372051/900441)\n",
    "    * [link3](https://stats.stackexchange.com/a/74107/279934)\n",
    "\n",
    "- [MAP is mode of the posterior distribution](https://stats.stackexchange.com/a/308264/279934)\n",
    "    \n",
    ">the theoretical mode of f(θ∣x) is always equal to its maximum value (MAP), but since I'm using a sampled f(θ∣x) the mode and >the MAP will not necessarily match\n",
    "\n",
    "- [Bayes Regression](https://stats.stackexchange.com/a/252608/279934)\n",
    "\n",
    "\n",
    "## MAP with l2 and l1 regularization\n",
    "\n",
    "- [link](https://stats.stackexchange.com/a/163450/279934)\n",
    "\n",
    "\n",
    "## L1 and L2\n",
    "\n",
    "- [Probabilistic Expalnation of Regularization](https://bjlkeng.github.io/posts/probabilistic-interpretation-of-regularization/) $best$\n",
    "- [math in regularization](https://datascience.stackexchange.com/a/39617/94070)\n",
    "- [l1 vs l2](https://datascience.stackexchange.com/a/23877/94070)\n",
    "- [understanding Norm](https://math.stackexchange.com/a/2860729/900441)\n",
    "- [understanding visually](https://www.linkedin.com/pulse/intuitive-visual-explanation-differences-between-l1-l2-xiaoli-chen/)\n",
    "\n",
    "\n",
    "## Dummy variable trap\n",
    "\n",
    "- go for k-1 columns\n",
    "- Remove the bias column... \n",
    "- l2 regularization .. we can have both k columns and bias term.. $X.T * X$ in non-invertible , but $\\lambda.I + X.t * X$ is not i.e \n",
    "    dividing with lambda rather than with 0\n",
    "- Gradient descent\n",
    "\n",
    "\n",
    "\n"
   ]
  },
  {
   "cell_type": "code",
   "execution_count": null,
   "id": "ab2be369",
   "metadata": {},
   "outputs": [],
   "source": []
  }
 ],
 "metadata": {
  "kernelspec": {
   "display_name": "Python 3",
   "language": "python",
   "name": "python3"
  },
  "language_info": {
   "codemirror_mode": {
    "name": "ipython",
    "version": 3
   },
   "file_extension": ".py",
   "mimetype": "text/x-python",
   "name": "python",
   "nbconvert_exporter": "python",
   "pygments_lexer": "ipython3",
   "version": "3.7.10"
  }
 },
 "nbformat": 4,
 "nbformat_minor": 5
}
