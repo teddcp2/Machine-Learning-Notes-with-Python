{
 "cells": [
  {
   "cell_type": "markdown",
   "metadata": {},
   "source": [
    "# Ploynomial Regression\n",
    "\n",
    "- Datasets to be used\n",
    "    \n",
    "    1. EconomiesOfScale.csv\n",
    "    2. Employee_Salary.csv"
   ]
  },
  {
   "cell_type": "code",
   "execution_count": 1,
   "metadata": {},
   "outputs": [],
   "source": [
    "import numpy as np\n",
    "import pandas as pd\n",
    "import matplotlib.pyplot as plt\n",
    "import seaborn as sns\n",
    "\n",
    "sns.set()"
   ]
  },
  {
   "cell_type": "markdown",
   "metadata": {},
   "source": [
    "### using Economiesof Scale.csv"
   ]
  },
  {
   "cell_type": "code",
   "execution_count": 9,
   "metadata": {},
   "outputs": [
    {
     "data": {
      "text/html": [
       "<div>\n",
       "<style scoped>\n",
       "    .dataframe tbody tr th:only-of-type {\n",
       "        vertical-align: middle;\n",
       "    }\n",
       "\n",
       "    .dataframe tbody tr th {\n",
       "        vertical-align: top;\n",
       "    }\n",
       "\n",
       "    .dataframe thead th {\n",
       "        text-align: right;\n",
       "    }\n",
       "</style>\n",
       "<table border=\"1\" class=\"dataframe\">\n",
       "  <thead>\n",
       "    <tr style=\"text-align: right;\">\n",
       "      <th></th>\n",
       "      <th>Number of Units</th>\n",
       "      <th>Manufacturing Cost</th>\n",
       "    </tr>\n",
       "  </thead>\n",
       "  <tbody>\n",
       "    <tr>\n",
       "      <th>0</th>\n",
       "      <td>1.000000</td>\n",
       "      <td>95.066056</td>\n",
       "    </tr>\n",
       "    <tr>\n",
       "      <th>1</th>\n",
       "      <td>1.185994</td>\n",
       "      <td>96.531750</td>\n",
       "    </tr>\n",
       "    <tr>\n",
       "      <th>2</th>\n",
       "      <td>1.191499</td>\n",
       "      <td>73.661311</td>\n",
       "    </tr>\n",
       "    <tr>\n",
       "      <th>3</th>\n",
       "      <td>1.204771</td>\n",
       "      <td>95.566843</td>\n",
       "    </tr>\n",
       "    <tr>\n",
       "      <th>4</th>\n",
       "      <td>1.298773</td>\n",
       "      <td>98.777013</td>\n",
       "    </tr>\n",
       "  </tbody>\n",
       "</table>\n",
       "</div>"
      ],
      "text/plain": [
       "   Number of Units  Manufacturing Cost\n",
       "0         1.000000           95.066056\n",
       "1         1.185994           96.531750\n",
       "2         1.191499           73.661311\n",
       "3         1.204771           95.566843\n",
       "4         1.298773           98.777013"
      ]
     },
     "execution_count": 9,
     "metadata": {},
     "output_type": "execute_result"
    }
   ],
   "source": [
    "data= pd.read_csv(\"./DataSets/EconomiesOfScale.csv\")\n",
    "data.head()"
   ]
  },
  {
   "cell_type": "code",
   "execution_count": 10,
   "metadata": {},
   "outputs": [
    {
     "data": {
      "text/html": [
       "<div>\n",
       "<style scoped>\n",
       "    .dataframe tbody tr th:only-of-type {\n",
       "        vertical-align: middle;\n",
       "    }\n",
       "\n",
       "    .dataframe tbody tr th {\n",
       "        vertical-align: top;\n",
       "    }\n",
       "\n",
       "    .dataframe thead th {\n",
       "        text-align: right;\n",
       "    }\n",
       "</style>\n",
       "<table border=\"1\" class=\"dataframe\">\n",
       "  <thead>\n",
       "    <tr style=\"text-align: right;\">\n",
       "      <th></th>\n",
       "      <th>units</th>\n",
       "      <th>cost</th>\n",
       "    </tr>\n",
       "  </thead>\n",
       "  <tbody>\n",
       "    <tr>\n",
       "      <th>995</th>\n",
       "      <td>8.099710</td>\n",
       "      <td>23.855067</td>\n",
       "    </tr>\n",
       "    <tr>\n",
       "      <th>996</th>\n",
       "      <td>8.739752</td>\n",
       "      <td>27.536542</td>\n",
       "    </tr>\n",
       "    <tr>\n",
       "      <th>997</th>\n",
       "      <td>8.780888</td>\n",
       "      <td>25.973787</td>\n",
       "    </tr>\n",
       "    <tr>\n",
       "      <th>998</th>\n",
       "      <td>8.897700</td>\n",
       "      <td>25.138311</td>\n",
       "    </tr>\n",
       "    <tr>\n",
       "      <th>999</th>\n",
       "      <td>10.000000</td>\n",
       "      <td>21.547777</td>\n",
       "    </tr>\n",
       "  </tbody>\n",
       "</table>\n",
       "</div>"
      ],
      "text/plain": [
       "         units       cost\n",
       "995   8.099710  23.855067\n",
       "996   8.739752  27.536542\n",
       "997   8.780888  25.973787\n",
       "998   8.897700  25.138311\n",
       "999  10.000000  21.547777"
      ]
     },
     "execution_count": 10,
     "metadata": {},
     "output_type": "execute_result"
    }
   ],
   "source": [
    "data.rename(mapper={\"Number of Units\": \"units\", \"Manufacturing Cost\": \"cost\"}, axis=1, inplace=True)\n",
    "data.tail()"
   ]
  },
  {
   "cell_type": "code",
   "execution_count": 11,
   "metadata": {},
   "outputs": [
    {
     "name": "stdout",
     "output_type": "stream",
     "text": [
      "<class 'pandas.core.frame.DataFrame'>\n",
      "RangeIndex: 1000 entries, 0 to 999\n",
      "Data columns (total 2 columns):\n",
      " #   Column  Non-Null Count  Dtype  \n",
      "---  ------  --------------  -----  \n",
      " 0   units   1000 non-null   float64\n",
      " 1   cost    1000 non-null   float64\n",
      "dtypes: float64(2)\n",
      "memory usage: 15.8 KB\n"
     ]
    }
   ],
   "source": [
    "data.info()"
   ]
  },
  {
   "cell_type": "code",
   "execution_count": 12,
   "metadata": {},
   "outputs": [
    {
     "data": {
      "text/plain": [
       "units    0\n",
       "cost     0\n",
       "dtype: int64"
      ]
     },
     "execution_count": 12,
     "metadata": {},
     "output_type": "execute_result"
    }
   ],
   "source": [
    "data.isnull().sum() # Checking null value"
   ]
  },
  {
   "cell_type": "code",
   "execution_count": 13,
   "metadata": {},
   "outputs": [
    {
     "data": {
      "text/html": [
       "<div>\n",
       "<style scoped>\n",
       "    .dataframe tbody tr th:only-of-type {\n",
       "        vertical-align: middle;\n",
       "    }\n",
       "\n",
       "    .dataframe tbody tr th {\n",
       "        vertical-align: top;\n",
       "    }\n",
       "\n",
       "    .dataframe thead th {\n",
       "        text-align: right;\n",
       "    }\n",
       "</style>\n",
       "<table border=\"1\" class=\"dataframe\">\n",
       "  <thead>\n",
       "    <tr style=\"text-align: right;\">\n",
       "      <th></th>\n",
       "      <th>units</th>\n",
       "      <th>cost</th>\n",
       "    </tr>\n",
       "  </thead>\n",
       "  <tbody>\n",
       "    <tr>\n",
       "      <th>count</th>\n",
       "      <td>1000.000000</td>\n",
       "      <td>1000.000000</td>\n",
       "    </tr>\n",
       "    <tr>\n",
       "      <th>mean</th>\n",
       "      <td>4.472799</td>\n",
       "      <td>40.052999</td>\n",
       "    </tr>\n",
       "    <tr>\n",
       "      <th>std</th>\n",
       "      <td>1.336241</td>\n",
       "      <td>10.595322</td>\n",
       "    </tr>\n",
       "    <tr>\n",
       "      <th>min</th>\n",
       "      <td>1.000000</td>\n",
       "      <td>20.000000</td>\n",
       "    </tr>\n",
       "    <tr>\n",
       "      <th>25%</th>\n",
       "      <td>3.594214</td>\n",
       "      <td>32.912036</td>\n",
       "    </tr>\n",
       "    <tr>\n",
       "      <th>50%</th>\n",
       "      <td>4.435958</td>\n",
       "      <td>38.345781</td>\n",
       "    </tr>\n",
       "    <tr>\n",
       "      <th>75%</th>\n",
       "      <td>5.324780</td>\n",
       "      <td>44.531822</td>\n",
       "    </tr>\n",
       "    <tr>\n",
       "      <th>max</th>\n",
       "      <td>10.000000</td>\n",
       "      <td>100.000000</td>\n",
       "    </tr>\n",
       "  </tbody>\n",
       "</table>\n",
       "</div>"
      ],
      "text/plain": [
       "             units         cost\n",
       "count  1000.000000  1000.000000\n",
       "mean      4.472799    40.052999\n",
       "std       1.336241    10.595322\n",
       "min       1.000000    20.000000\n",
       "25%       3.594214    32.912036\n",
       "50%       4.435958    38.345781\n",
       "75%       5.324780    44.531822\n",
       "max      10.000000   100.000000"
      ]
     },
     "execution_count": 13,
     "metadata": {},
     "output_type": "execute_result"
    }
   ],
   "source": [
    "data.describe()"
   ]
  },
  {
   "cell_type": "code",
   "execution_count": 14,
   "metadata": {},
   "outputs": [
    {
     "data": {
      "image/png": "[encoded data removed]",
      "text/plain": [
       "<Figure size 432x288 with 2 Axes>"
      ]
     },
     "metadata": {},
     "output_type": "display_data"
    }
   ],
   "source": [
    "data.hist()\n",
    "plt.tight_layout()"
   ]
  },
  {
   "cell_type": "code",
   "execution_count": 15,
   "metadata": {},
   "outputs": [
    {
     "data": {
      "text/plain": [
       "<seaborn.axisgrid.JointGrid at 0x23d23367a88>"
      ]
     },
     "execution_count": 15,
     "metadata": {},
     "output_type": "execute_result"
    },
    {
     "data": {
      "image/png": "[encoded data removed]",
      "text/plain": [
       "<Figure size 432x432 with 3 Axes>"
      ]
     },
     "metadata": {},
     "output_type": "display_data"
    }
   ],
   "source": [
    "sns.jointplot(x=\"units\", y=\"cost\", data=data) # Polynomial Relationship"
   ]
  },
  {
   "cell_type": "code",
   "execution_count": 16,
   "metadata": {},
   "outputs": [
    {
     "data": {
      "text/plain": [
       "<seaborn.axisgrid.PairGrid at 0x23d22fa4ac8>"
      ]
     },
     "execution_count": 16,
     "metadata": {},
     "output_type": "execute_result"
    },
    {
     "data": {
      "image/png": "[encoded data removed]",
      "text/plain": [
       "<Figure size 360x360 with 6 Axes>"
      ]
     },
     "metadata": {},
     "output_type": "display_data"
    }
   ],
   "source": [
    "sns.pairplot(data)"
   ]
  },
  {
   "cell_type": "code",
   "execution_count": 17,
   "metadata": {},
   "outputs": [
    {
     "data": {
      "text/plain": [
       "<seaborn.axisgrid.FacetGrid at 0x23d23ab0d88>"
      ]
     },
     "execution_count": 17,
     "metadata": {},
     "output_type": "execute_result"
    },
    {
     "data": {
      "image/png": "[encoded data removed]",
      "text/plain": [
       "<Figure size 360x360 with 1 Axes>"
      ]
     },
     "metadata": {},
     "output_type": "display_data"
    }
   ],
   "source": [
    "sns.lmplot(x=\"units\", y=\"cost\", data=data)"
   ]
  },
  {
   "cell_type": "code",
   "execution_count": 18,
   "metadata": {},
   "outputs": [],
   "source": [
    "from sklearn.model_selection import train_test_split\n",
    "from sklearn.linear_model import LinearRegression\n",
    "from sklearn.preprocessing import PolynomialFeatures\n",
    "from sklearn.pipeline import Pipeline, make_pipeline\n",
    "from sklearn.metrics import r2_score, mean_squared_error"
   ]
  },
  {
   "cell_type": "code",
   "execution_count": 71,
   "metadata": {},
   "outputs": [],
   "source": [
    "model1= PolynomialFeatures(degree=5, include_bias=False)\n",
    "model2= LinearRegression(fit_intercept=True)\n",
    "\n",
    "# pipeline= Pipeline([(\"Polynomial\", model1), (\"LinearRegression\", model2)]) \n",
    "pipeline= make_pipeline(model1, model2)"
   ]
  },
  {
   "cell_type": "code",
   "execution_count": 72,
   "metadata": {},
   "outputs": [
    {
     "data": {
      "text/plain": [
       "{'memory': None,\n",
       " 'steps': [('polynomialfeatures',\n",
       "   PolynomialFeatures(degree=5, include_bias=False, interaction_only=False,\n",
       "                      order='C')),\n",
       "  ('linearregression',\n",
       "   LinearRegression(copy_X=True, fit_intercept=True, n_jobs=None, normalize=False))],\n",
       " 'verbose': False,\n",
       " 'polynomialfeatures': PolynomialFeatures(degree=5, include_bias=False, interaction_only=False,\n",
       "                    order='C'),\n",
       " 'linearregression': LinearRegression(copy_X=True, fit_intercept=True, n_jobs=None, normalize=False),\n",
       " 'polynomialfeatures__degree': 5,\n",
       " 'polynomialfeatures__include_bias': False,\n",
       " 'polynomialfeatures__interaction_only': False,\n",
       " 'polynomialfeatures__order': 'C',\n",
       " 'linearregression__copy_X': True,\n",
       " 'linearregression__fit_intercept': True,\n",
       " 'linearregression__n_jobs': None,\n",
       " 'linearregression__normalize': False}"
      ]
     },
     "execution_count": 72,
     "metadata": {},
     "output_type": "execute_result"
    }
   ],
   "source": [
    "pipeline.get_params()"
   ]
  },
  {
   "cell_type": "code",
   "execution_count": 73,
   "metadata": {},
   "outputs": [],
   "source": [
    "# Splitting the dataset for training and testing\n",
    "\n",
    "x= data.iloc[:,[0]]\n",
    "y= data.iloc[:,1]\n",
    "\n",
    "\n",
    "x_train, x_test, y_train, y_test= train_test_split(x,y, test_size=0.4, random_state=42)"
   ]
  },
  {
   "cell_type": "code",
   "execution_count": 74,
   "metadata": {},
   "outputs": [
    {
     "data": {
      "text/plain": [
       "Pipeline(memory=None,\n",
       "         steps=[('polynomialfeatures',\n",
       "                 PolynomialFeatures(degree=5, include_bias=False,\n",
       "                                    interaction_only=False, order='C')),\n",
       "                ('linearregression',\n",
       "                 LinearRegression(copy_X=True, fit_intercept=True, n_jobs=None,\n",
       "                                  normalize=False))],\n",
       "         verbose=False)"
      ]
     },
     "execution_count": 74,
     "metadata": {},
     "output_type": "execute_result"
    }
   ],
   "source": [
    "pipeline.fit(x_train, y_train)"
   ]
  },
  {
   "cell_type": "code",
   "execution_count": 75,
   "metadata": {},
   "outputs": [
    {
     "data": {
      "text/plain": [
       "{'polynomialfeatures': PolynomialFeatures(degree=5, include_bias=False, interaction_only=False,\n",
       "                    order='C'),\n",
       " 'linearregression': LinearRegression(copy_X=True, fit_intercept=True, n_jobs=None, normalize=False)}"
      ]
     },
     "execution_count": 75,
     "metadata": {},
     "output_type": "execute_result"
    }
   ],
   "source": [
    "pipeline.named_steps"
   ]
  },
  {
   "cell_type": "code",
   "execution_count": 76,
   "metadata": {},
   "outputs": [
    {
     "data": {
      "text/plain": [
       "(array([-9.02776963e+01,  2.97263951e+01, -5.21872353e+00,  4.57914584e-01,\n",
       "        -1.56902650e-02]),\n",
       " 159.03083033760356)"
      ]
     },
     "execution_count": 76,
     "metadata": {},
     "output_type": "execute_result"
    }
   ],
   "source": [
    "lr= pipeline.named_steps['linearregression']\n",
    "lr.coef_, lr.intercept_"
   ]
  },
  {
   "cell_type": "code",
   "execution_count": 77,
   "metadata": {},
   "outputs": [],
   "source": [
    "preds= pipeline.predict(x_test)"
   ]
  },
  {
   "cell_type": "code",
   "execution_count": 78,
   "metadata": {},
   "outputs": [
    {
     "data": {
      "text/plain": [
       "<matplotlib.axes._subplots.AxesSubplot at 0x23d27a6e508>"
      ]
     },
     "execution_count": 78,
     "metadata": {},
     "output_type": "execute_result"
    },
    {
     "data": {
      "image/png": "[encoded data removed]",
      "text/plain": [
       "<Figure size 432x288 with 1 Axes>"
      ]
     },
     "metadata": {},
     "output_type": "display_data"
    }
   ],
   "source": [
    "sns.kdeplot(y_test-preds)"
   ]
  },
  {
   "cell_type": "code",
   "execution_count": 79,
   "metadata": {},
   "outputs": [
    {
     "data": {
      "text/plain": [
       "(0.696930492198558, 34.864918894918084)"
      ]
     },
     "execution_count": 79,
     "metadata": {},
     "output_type": "execute_result"
    }
   ],
   "source": [
    "r2= r2_score(y_test, preds)\n",
    "mse= mean_squared_error(y_test, preds)\n",
    "\n",
    "r2, mse"
   ]
  },
  {
   "cell_type": "code",
   "execution_count": 80,
   "metadata": {},
   "outputs": [
    {
     "data": {
      "text/plain": [
       "(array([4.51868904, 5.28468976, 5.29269585, 5.03059573, 4.18228903,\n",
       "        5.07762345, 4.92529196, 4.4838088 , 5.85309245, 3.04985592,\n",
       "        5.57765595, 2.60114991, 4.955669  , 7.16964363, 6.59142023,\n",
       "        6.11358697, 3.71413713, 6.01132131, 5.3765682 , 3.87397592,\n",
       "        4.60021704, 3.21071126, 4.06285262, 4.53349366, 3.37158582,\n",
       "        3.4889104 , 2.78438034, 7.60433574, 6.12838874, 6.69209119,\n",
       "        3.9788377 , 3.0560049 , 4.90800734, 4.43451552, 4.05841319,\n",
       "        3.32766635, 5.10000757, 4.72120536, 6.12483872, 2.36375571,\n",
       "        3.91165268, 2.76205194, 3.84631627, 7.18242972, 3.77662768,\n",
       "        3.69719175, 6.38762569, 4.79741011, 4.24996542, 5.68471755,\n",
       "        4.66085565, 5.98434739, 3.64227038, 4.69746897, 1.81591741,\n",
       "        1.87414418, 4.87760465, 1.54089845, 3.41034927, 5.62045553,\n",
       "        3.76241368, 2.33203947, 4.57973193, 3.36875554, 4.81127551,\n",
       "        5.11086907, 5.03414295, 5.90155589, 2.56510541, 4.58311586,\n",
       "        2.8408349 , 4.42905235, 4.73566281, 5.3027349 , 3.75174922,\n",
       "        3.74687568, 5.01040155, 2.1052735 , 4.73441049, 3.82276541,\n",
       "        5.07890083, 2.51735755, 3.69328964, 2.52024029, 3.87049555,\n",
       "        4.59793641, 8.89769971, 5.20513895, 5.3340445 , 3.91036801,\n",
       "        4.09409754, 4.28447918, 4.52209869, 3.40613826, 5.48524348,\n",
       "        4.24395755, 5.38952152, 2.70434125, 2.47972272, 5.63940777,\n",
       "        5.210917  , 3.99513182, 6.57330025, 3.6287026 , 4.95091063,\n",
       "        4.98310501, 4.61424513, 6.92014475, 3.1805398 , 6.31240925,\n",
       "        4.53383079, 5.62758076, 7.59803668, 5.59162442, 2.69182624,\n",
       "        4.22950195, 3.25458597, 7.33188665, 4.54495173, 3.75667285,\n",
       "        6.06498679, 4.2144105 , 5.20377699, 3.63796014, 3.5147427 ,\n",
       "        4.62435992, 4.7194265 , 4.26227088, 5.90366615, 5.54487773,\n",
       "        4.79430583, 5.7756136 , 3.66182046, 8.09970959, 4.53644068,\n",
       "        2.33939896, 2.93517412, 3.38590668, 1.83109722, 2.57552743,\n",
       "        2.17131692, 3.5765014 , 5.22647295, 3.71617301, 6.07300527,\n",
       "        6.25283842, 5.57464308, 3.55820286, 5.62667757, 3.87819361,\n",
       "        4.97892176, 3.12582029, 7.3112135 , 4.22507652, 6.6008969 ,\n",
       "        4.3062847 , 3.83146988, 5.12179679, 2.37999185, 6.01331861,\n",
       "        4.78150465, 5.42116215, 4.99378874, 4.99579222, 5.89258903,\n",
       "        5.0459974 , 3.76967394, 5.10124785, 3.84909652, 3.83844811,\n",
       "        4.02739171, 4.35120302, 2.86701165, 7.84378456, 4.39899419,\n",
       "        4.02957049, 3.60802831, 3.63570127, 5.55378597, 5.06888839,\n",
       "        4.42964059, 5.04981858, 4.08587603, 4.52734877, 5.73610916,\n",
       "        3.05339505, 4.00438294, 4.03687778, 6.62149696, 5.32471806,\n",
       "        6.71759309, 5.6502551 , 5.02105583, 3.33315258, 3.37827101,\n",
       "        4.17175172, 3.92588875, 3.36263742, 4.86468877, 2.62232024,\n",
       "        1.86522775, 4.54842911, 5.11287348, 4.6168282 , 5.66515593,\n",
       "        4.78445643, 3.17539911, 6.3444135 , 4.43056097, 5.62832084,\n",
       "        2.50270529, 3.06258674, 6.3982727 , 5.63984741, 5.02060453,\n",
       "        3.92207178, 5.04013317, 3.59275842, 6.19625046, 5.19544098,\n",
       "        3.8131937 , 5.27200304, 7.1907746 , 2.25713058, 6.09694214,\n",
       "        1.19149864, 4.58419968, 3.99104454, 6.16119447, 4.54956049,\n",
       "        3.96594464, 8.08733353, 4.35627222, 4.6880919 , 1.9877704 ,\n",
       "        1.89573077, 3.47481603, 6.96456084, 3.28778503, 3.92831702,\n",
       "        1.2047714 , 3.34814252, 4.48653473, 5.54239347, 3.8181635 ,\n",
       "        2.8664997 , 4.22673074, 2.60380291, 2.6736404 , 3.73788009,\n",
       "        2.66585582, 7.92789671, 5.50097295, 6.08097172, 4.12687813,\n",
       "        3.88596662, 4.51098874, 6.31207094, 6.38525326, 1.30743503,\n",
       "        5.26697681, 4.31766227, 2.76332132, 3.66737487, 4.01071214,\n",
       "        5.91010772, 5.53928028, 4.09005763, 4.94536263, 4.0911656 ,\n",
       "        4.41365994, 2.89861036, 6.11821382, 3.59469962, 4.52448429,\n",
       "        1.47394834, 3.30979969, 4.80797516, 2.64975115, 5.47490871,\n",
       "        4.73035989, 5.53635996, 3.53728   , 3.74792469, 3.37169634,\n",
       "        5.21247234, 4.02605298, 4.27707422, 3.4268268 , 6.72770506,\n",
       "        6.68422339, 5.53627686, 4.43802155, 4.31413346, 4.0291026 ,\n",
       "        4.32331707, 6.53297743, 4.22462218, 1.3790436 , 3.11748525,\n",
       "        4.57963785, 4.25046278, 4.36046211, 4.20645678, 5.46220345,\n",
       "        6.71977899, 3.93241397, 4.69306876, 6.52701329, 4.64994185,\n",
       "        4.77632932, 4.5372637 , 4.71584609, 5.19398552, 4.27402503,\n",
       "        4.29258077, 3.43289389, 3.99749451, 5.26102924, 3.37211526,\n",
       "        2.62537283, 3.09085887, 3.79145064, 4.93472627, 5.46219783,\n",
       "        4.45950476, 3.96418498, 4.39212644, 5.20022275, 3.03326232,\n",
       "        5.18000789, 3.84142222, 5.22937782, 4.93885188, 1.        ,\n",
       "        3.86520725, 5.1933765 , 4.59222125, 5.92666179, 4.54129394,\n",
       "        4.34039845, 4.15385101, 3.18743599, 2.96364528, 4.11953725,\n",
       "        4.20162872, 4.61255768, 6.15592247, 2.71513791, 6.5926048 ,\n",
       "        3.23468554, 3.69264069, 6.09581326, 2.54466126, 3.75057681,\n",
       "        3.02805712, 3.78495493, 4.21404005, 3.89816302, 3.07536934,\n",
       "        4.21150219, 4.7046478 , 3.04980751, 4.28254398, 3.17054005,\n",
       "        1.84584064, 5.44813428, 3.29194729, 4.10966178, 5.78663548,\n",
       "        3.18289487, 5.18601069, 3.06104909, 3.20493284, 1.3393857 ,\n",
       "        5.31481574, 4.34233016, 2.57746184, 6.22820684, 5.58568712,\n",
       "        3.52866221, 3.08865001, 5.51417256, 3.48036215, 3.40824067,\n",
       "        6.3863389 , 4.43739951, 3.02963317, 7.90036622, 5.45106828,\n",
       "        3.264346  , 2.11858955, 5.11807803, 2.86198543, 4.73369649,\n",
       "        2.34009136, 4.15941498, 4.25426056, 5.3493638 , 8.78088812]),\n",
       " array([37.91122594, 34.39019847, 34.35671229, 35.48934744, 39.67355612,\n",
       "        35.28071712, 35.96486534, 38.08688956, 32.210156  , 47.6312136 ,\n",
       "        33.21409165, 52.58148426, 35.82651127, 29.20012098, 30.12260291,\n",
       "        31.36549174, 42.461574  , 31.68406573, 34.01030902, 41.45419708,\n",
       "        37.5063088 , 46.1930709 , 40.34132273, 37.83711361, 44.88901758,\n",
       "        44.00975785, 50.36785514, 28.89279714, 31.32083451, 29.9156305 ,\n",
       "        40.82704381, 47.5734738 , 36.04401624, 38.33772348, 40.36664229,\n",
       "        45.23303519, 35.18223012, 36.91935282, 31.33151099, 55.94119127,\n",
       "        41.22602534, 50.62204734, 41.6238398 , 29.18680387, 42.05971979,\n",
       "        42.57244618, 30.60120396, 36.55782843, 39.30587236, 32.81130071,\n",
       "        37.21010118, 31.77095654, 42.93768051, 37.03323376, 66.5377456 ,\n",
       "        65.18174963, 36.18399046, 73.85518366, 44.59232119, 33.05123138,\n",
       "        42.1501803 , 56.43826142, 37.60731878, 44.91093131, 36.49271133,\n",
       "        35.13463181, 35.47353012, 32.04487856, 53.0534128 , 37.59059959,\n",
       "        49.74296305, 38.36571416, 36.85028814, 34.31482541, 42.21841058,\n",
       "        42.24969498, 35.57964484, 60.37507071, 36.85626168, 41.76975914,\n",
       "        35.2750826 , 53.69863724, 42.59809619, 53.65901732, 41.47544191,\n",
       "        37.51753047, 28.05889065, 34.72680872, 34.18492581, 41.23375151,\n",
       "        40.16416812, 39.12110697, 37.89413378, 44.62424699, 33.57379686,\n",
       "        39.33822031, 33.95753789, 51.29837652, 54.22393317, 32.9798904 ,\n",
       "        34.7021245 , 40.7317322 , 30.16194202, 43.02934273, 35.8481204 ,\n",
       "        35.70237467, 37.43741527, 29.51969517, 46.45186917, 30.79754621,\n",
       "        37.83542895, 33.02435385, 28.89539379, 33.16067437, 51.44883515,\n",
       "        39.41628277, 45.82510033, 29.05182114, 37.7799342 , 42.18687102,\n",
       "        31.51472213, 39.49812957, 34.73263238, 42.96673688, 43.82338799,\n",
       "        37.38787916, 36.92786614, 39.2397896 , 32.0377635 , 33.34043346,\n",
       "        36.57243503, 32.48169507, 42.80661634, 28.77309732, 37.8223921 ,\n",
       "        56.3218274 , 48.75248367, 44.77866483, 66.17819701, 52.91564287,\n",
       "        59.15530292, 43.38757082, 34.63585013, 42.44830936, 31.48982807,\n",
       "        30.96037017, 33.22564664, 43.51530533, 33.02775709, 41.42849001,\n",
       "        35.72125169, 46.93377634, 29.06829159, 39.44024621, 30.10228136,\n",
       "        39.00528959, 41.71566595, 35.08686956, 55.69142301, 31.67767868,\n",
       "        36.63277598, 33.82947096, 35.6542466 , 35.64523454, 32.0751882 ,\n",
       "        35.42076556, 42.10390674, 35.17678852, 41.60670413, 41.67243707,\n",
       "        40.54462618, 38.76887267, 49.46157437, 28.82118908, 38.52041496,\n",
       "        40.53206428, 43.1701484 , 42.98198784, 33.30596022, 35.31929332,\n",
       "        38.36269845, 35.4037887 , 40.2106074 , 37.8678431 , 32.62351033,\n",
       "        47.59795231, 40.67786129, 40.49000186, 30.05870675, 34.22350286,\n",
       "        29.86632968, 32.93927543, 35.53195172, 45.18959218, 44.837394  ,\n",
       "        39.73147306, 41.14065676, 44.95842026, 36.24374597, 52.31018092,\n",
       "        65.38536966, 37.76261183, 35.12586155, 37.4247539 , 32.88374296,\n",
       "        36.61884683, 46.49644534, 30.71273096, 38.35798086, 33.02156607,\n",
       "        53.90136219, 47.511926  , 30.57425672, 32.9782412 , 35.53396955,\n",
       "        41.16350111, 35.4468491 , 43.27504212, 31.12091612, 34.76832089,\n",
       "        41.82946248, 34.44340943, 29.1782671 , 57.66215712, 31.41615359,\n",
       "        85.72430282, 37.58524752, 40.75558891, 31.22319529, 37.756979  ,\n",
       "        40.90285406, 28.77554438, 38.74237064, 37.07839132, 62.7089118 ,\n",
       "        64.69469528, 44.11249844, 29.45427812, 45.55299901, 41.12614057,\n",
       "        85.21288315, 45.07158356, 38.07310742, 33.35006521, 41.79843442,\n",
       "        49.46702824, 39.4312851 , 52.54724986, 51.66994822, 42.30761259,\n",
       "        51.76550579, 28.80458162, 33.5118101 , 31.46520176, 39.98022306,\n",
       "        41.38122295, 37.94987836, 30.79845278, 30.60723725, 81.42720134,\n",
       "        34.46454048, 38.94513429, 50.60748668, 42.76959446, 40.64110543,\n",
       "        32.01608731, 33.36214652, 40.18697208, 35.87334505, 40.18071496,\n",
       "        38.44478619, 49.12869242, 31.3514924 , 43.26166463, 37.88218336,\n",
       "        75.88827322, 45.37546495, 36.50819268, 51.96494662, 33.61469118,\n",
       "        36.87559457, 33.37349057, 43.66278483, 42.24295561, 44.88816262,\n",
       "        34.69548623, 40.55234934, 39.16059733, 44.46809743, 29.84713195,\n",
       "        29.93109646, 33.37381354, 38.31978058, 38.96377174, 40.53476115,\n",
       "        38.91530563, 30.25175425, 39.44270817, 78.95765325, 47.00865034,\n",
       "        37.60778381, 39.30319696, 38.72049253, 39.54141176, 33.66514576,\n",
       "        29.86216283, 41.10167871, 37.05441212, 30.26530346, 37.26310857,\n",
       "        36.65722017, 37.81828266, 36.94501183, 34.77455983, 39.17688237,\n",
       "        39.07799471, 44.42263594, 40.71795722, 34.48958141, 44.88492217,\n",
       "        52.2714133 , 47.25052219, 41.96595793, 35.92179382, 33.66516813,\n",
       "        38.21017911, 40.91322798, 38.55592896, 34.74783972, 47.78819728,\n",
       "        34.83459308, 41.6540497 , 34.6235037 , 35.9029877 , 93.70302991,\n",
       "        41.50777792, 34.77717114, 37.54567775, 31.96067735, 37.79817075,\n",
       "        38.82547896, 39.83028929, 46.39229281, 48.46599412, 40.02124881,\n",
       "        39.5677346 , 37.44569066, 31.23876137, 51.16967859, 30.12005324,\n",
       "        45.99079775, 42.60236636, 31.41960652, 53.32682931, 42.2259306 ,\n",
       "        47.83779559, 42.0069747 , 39.50014322, 41.3073417 , 47.39314486,\n",
       "        39.51394411, 36.99872712, 47.63166911, 39.13141943, 46.53871014,\n",
       "        65.83309091, 33.72124715, 45.51925831, 40.07659057, 32.44252885,\n",
       "        46.43149512, 34.80878539, 47.52628111, 46.24226607, 80.30849202,\n",
       "        34.26457093, 38.81534655, 52.89019021, 31.02955565, 33.18334827,\n",
       "        43.72398   , 47.27077364, 33.46003142, 44.07198006, 44.6082984 ,\n",
       "        30.60447508, 38.32296288, 47.8227601 , 28.80975417, 33.7095278 ,\n",
       "        45.74455161, 60.12399641, 35.10310906, 49.51520373, 36.85966826,\n",
       "        56.31090729, 39.79951674, 39.28278028, 34.12177778, 28.2850126 ]))"
      ]
     },
     "execution_count": 80,
     "metadata": {},
     "output_type": "execute_result"
    }
   ],
   "source": [
    "# Converting ND to 1d\n",
    "# https://stackoverflow.com/a/13730506/12210002\n",
    "\n",
    "# Numpy Reshape\n",
    "# https://stackoverflow.com/a/42510505/12210002\n",
    "\n",
    "# Flatten vs ravel vs flat\n",
    "# https://stackoverflow.com/a/28930580/12210002\n",
    "# https://stackoverflow.com/a/30523509/12210002\n",
    "\n",
    "x_test.to_numpy().reshape((-1,)), preds"
   ]
  },
  {
   "cell_type": "code",
   "execution_count": 81,
   "metadata": {},
   "outputs": [
    {
     "data": {
      "text/html": [
       "<div>\n",
       "<style scoped>\n",
       "    .dataframe tbody tr th:only-of-type {\n",
       "        vertical-align: middle;\n",
       "    }\n",
       "\n",
       "    .dataframe tbody tr th {\n",
       "        vertical-align: top;\n",
       "    }\n",
       "\n",
       "    .dataframe thead th {\n",
       "        text-align: right;\n",
       "    }\n",
       "</style>\n",
       "<table border=\"1\" class=\"dataframe\">\n",
       "  <thead>\n",
       "    <tr style=\"text-align: right;\">\n",
       "      <th></th>\n",
       "      <th>X</th>\n",
       "      <th>y</th>\n",
       "    </tr>\n",
       "  </thead>\n",
       "  <tbody>\n",
       "    <tr>\n",
       "      <th>0</th>\n",
       "      <td>4.518689</td>\n",
       "      <td>37.911226</td>\n",
       "    </tr>\n",
       "    <tr>\n",
       "      <th>1</th>\n",
       "      <td>5.284690</td>\n",
       "      <td>34.390198</td>\n",
       "    </tr>\n",
       "    <tr>\n",
       "      <th>2</th>\n",
       "      <td>5.292696</td>\n",
       "      <td>34.356712</td>\n",
       "    </tr>\n",
       "    <tr>\n",
       "      <th>3</th>\n",
       "      <td>5.030596</td>\n",
       "      <td>35.489347</td>\n",
       "    </tr>\n",
       "    <tr>\n",
       "      <th>4</th>\n",
       "      <td>4.182289</td>\n",
       "      <td>39.673556</td>\n",
       "    </tr>\n",
       "  </tbody>\n",
       "</table>\n",
       "</div>"
      ],
      "text/plain": [
       "          X          y\n",
       "0  4.518689  37.911226\n",
       "1  5.284690  34.390198\n",
       "2  5.292696  34.356712\n",
       "3  5.030596  35.489347\n",
       "4  4.182289  39.673556"
      ]
     },
     "execution_count": 81,
     "metadata": {},
     "output_type": "execute_result"
    }
   ],
   "source": [
    "# We have to sort the data as the resulted graph will be a zigzagged\n",
    "# https://stackoverflow.com/a/62984584/12210002\n",
    "\n",
    "pred_df= pd.DataFrame({\"X\": x_test.to_numpy().reshape((-1,)), \"y\": preds})\n",
    "pred_df.head()"
   ]
  },
  {
   "cell_type": "code",
   "execution_count": 82,
   "metadata": {},
   "outputs": [
    {
     "data": {
      "text/html": [
       "<div>\n",
       "<style scoped>\n",
       "    .dataframe tbody tr th:only-of-type {\n",
       "        vertical-align: middle;\n",
       "    }\n",
       "\n",
       "    .dataframe tbody tr th {\n",
       "        vertical-align: top;\n",
       "    }\n",
       "\n",
       "    .dataframe thead th {\n",
       "        text-align: right;\n",
       "    }\n",
       "</style>\n",
       "<table border=\"1\" class=\"dataframe\">\n",
       "  <thead>\n",
       "    <tr style=\"text-align: right;\">\n",
       "      <th></th>\n",
       "      <th>X</th>\n",
       "      <th>y</th>\n",
       "    </tr>\n",
       "  </thead>\n",
       "  <tbody>\n",
       "    <tr>\n",
       "      <th>334</th>\n",
       "      <td>1.000000</td>\n",
       "      <td>93.703030</td>\n",
       "    </tr>\n",
       "    <tr>\n",
       "      <th>225</th>\n",
       "      <td>1.191499</td>\n",
       "      <td>85.724303</td>\n",
       "    </tr>\n",
       "    <tr>\n",
       "      <th>240</th>\n",
       "      <td>1.204771</td>\n",
       "      <td>85.212883</td>\n",
       "    </tr>\n",
       "    <tr>\n",
       "      <th>259</th>\n",
       "      <td>1.307435</td>\n",
       "      <td>81.427201</td>\n",
       "    </tr>\n",
       "    <tr>\n",
       "      <th>374</th>\n",
       "      <td>1.339386</td>\n",
       "      <td>80.308492</td>\n",
       "    </tr>\n",
       "  </tbody>\n",
       "</table>\n",
       "</div>"
      ],
      "text/plain": [
       "            X          y\n",
       "334  1.000000  93.703030\n",
       "225  1.191499  85.724303\n",
       "240  1.204771  85.212883\n",
       "259  1.307435  81.427201\n",
       "374  1.339386  80.308492"
      ]
     },
     "execution_count": 82,
     "metadata": {},
     "output_type": "execute_result"
    }
   ],
   "source": [
    "# Sorting\n",
    "pred_df.sort_values(by='X', axis=0, inplace=True)\n",
    "pred_df.head()"
   ]
  },
  {
   "cell_type": "code",
   "execution_count": 83,
   "metadata": {},
   "outputs": [
    {
     "data": {
      "text/plain": [
       "[<matplotlib.lines.Line2D at 0x23d27a8e708>]"
      ]
     },
     "execution_count": 83,
     "metadata": {},
     "output_type": "execute_result"
    },
    {
     "data": {
      "image/png": "[encoded data removed]",
      "text/plain": [
       "<Figure size 432x288 with 1 Axes>"
      ]
     },
     "metadata": {},
     "output_type": "display_data"
    }
   ],
   "source": [
    "plt.scatter(x_test,y_test,c=\"r\")\n",
    "plt.plot(pred_df['X'], pred_df[\"y\"], c='b')"
   ]
  },
  {
   "cell_type": "markdown",
   "metadata": {},
   "source": [
    "### using EmployeeSalary.csv"
   ]
  },
  {
   "cell_type": "code",
   "execution_count": 84,
   "metadata": {},
   "outputs": [
    {
     "data": {
      "text/html": [
       "<div>\n",
       "<style scoped>\n",
       "    .dataframe tbody tr th:only-of-type {\n",
       "        vertical-align: middle;\n",
       "    }\n",
       "\n",
       "    .dataframe tbody tr th {\n",
       "        vertical-align: top;\n",
       "    }\n",
       "\n",
       "    .dataframe thead th {\n",
       "        text-align: right;\n",
       "    }\n",
       "</style>\n",
       "<table border=\"1\" class=\"dataframe\">\n",
       "  <thead>\n",
       "    <tr style=\"text-align: right;\">\n",
       "      <th></th>\n",
       "      <th>Years of Experience</th>\n",
       "      <th>Salary</th>\n",
       "    </tr>\n",
       "  </thead>\n",
       "  <tbody>\n",
       "    <tr>\n",
       "      <th>0</th>\n",
       "      <td>1.000000</td>\n",
       "      <td>40000.00000</td>\n",
       "    </tr>\n",
       "    <tr>\n",
       "      <th>1</th>\n",
       "      <td>2.257942</td>\n",
       "      <td>65979.42119</td>\n",
       "    </tr>\n",
       "    <tr>\n",
       "      <th>2</th>\n",
       "      <td>2.450875</td>\n",
       "      <td>67253.57549</td>\n",
       "    </tr>\n",
       "    <tr>\n",
       "      <th>3</th>\n",
       "      <td>2.498713</td>\n",
       "      <td>67342.43510</td>\n",
       "    </tr>\n",
       "    <tr>\n",
       "      <th>4</th>\n",
       "      <td>2.613729</td>\n",
       "      <td>70532.20448</td>\n",
       "    </tr>\n",
       "  </tbody>\n",
       "</table>\n",
       "</div>"
      ],
      "text/plain": [
       "   Years of Experience       Salary\n",
       "0             1.000000  40000.00000\n",
       "1             2.257942  65979.42119\n",
       "2             2.450875  67253.57549\n",
       "3             2.498713  67342.43510\n",
       "4             2.613729  70532.20448"
      ]
     },
     "execution_count": 84,
     "metadata": {},
     "output_type": "execute_result"
    }
   ],
   "source": [
    "data= pd.read_csv(\"./DataSets/Employee_Salary.csv\")\n",
    "data.head()"
   ]
  },
  {
   "cell_type": "code",
   "execution_count": 87,
   "metadata": {},
   "outputs": [
    {
     "data": {
      "text/html": [
       "<div>\n",
       "<style scoped>\n",
       "    .dataframe tbody tr th:only-of-type {\n",
       "        vertical-align: middle;\n",
       "    }\n",
       "\n",
       "    .dataframe tbody tr th {\n",
       "        vertical-align: top;\n",
       "    }\n",
       "\n",
       "    .dataframe thead th {\n",
       "        text-align: right;\n",
       "    }\n",
       "</style>\n",
       "<table border=\"1\" class=\"dataframe\">\n",
       "  <thead>\n",
       "    <tr style=\"text-align: right;\">\n",
       "      <th></th>\n",
       "      <th>yoe</th>\n",
       "      <th>salary</th>\n",
       "    </tr>\n",
       "  </thead>\n",
       "  <tbody>\n",
       "    <tr>\n",
       "      <th>0</th>\n",
       "      <td>1.000000</td>\n",
       "      <td>40000.00000</td>\n",
       "    </tr>\n",
       "    <tr>\n",
       "      <th>1</th>\n",
       "      <td>2.257942</td>\n",
       "      <td>65979.42119</td>\n",
       "    </tr>\n",
       "    <tr>\n",
       "      <th>2</th>\n",
       "      <td>2.450875</td>\n",
       "      <td>67253.57549</td>\n",
       "    </tr>\n",
       "    <tr>\n",
       "      <th>3</th>\n",
       "      <td>2.498713</td>\n",
       "      <td>67342.43510</td>\n",
       "    </tr>\n",
       "    <tr>\n",
       "      <th>4</th>\n",
       "      <td>2.613729</td>\n",
       "      <td>70532.20448</td>\n",
       "    </tr>\n",
       "  </tbody>\n",
       "</table>\n",
       "</div>"
      ],
      "text/plain": [
       "        yoe       salary\n",
       "0  1.000000  40000.00000\n",
       "1  2.257942  65979.42119\n",
       "2  2.450875  67253.57549\n",
       "3  2.498713  67342.43510\n",
       "4  2.613729  70532.20448"
      ]
     },
     "execution_count": 87,
     "metadata": {},
     "output_type": "execute_result"
    }
   ],
   "source": [
    "data.rename( mapper={\"Years of Experience\": \"yoe\", \"Salary\": \"salary\"}, axis=\"columns\", inplace=True)\n",
    "data.head()"
   ]
  },
  {
   "cell_type": "code",
   "execution_count": 88,
   "metadata": {},
   "outputs": [
    {
     "name": "stdout",
     "output_type": "stream",
     "text": [
      "<class 'pandas.core.frame.DataFrame'>\n",
      "RangeIndex: 2000 entries, 0 to 1999\n",
      "Data columns (total 2 columns):\n",
      " #   Column  Non-Null Count  Dtype  \n",
      "---  ------  --------------  -----  \n",
      " 0   yoe     2000 non-null   float64\n",
      " 1   salary  2000 non-null   float64\n",
      "dtypes: float64(2)\n",
      "memory usage: 31.4 KB\n"
     ]
    }
   ],
   "source": [
    "data.info()"
   ]
  },
  {
   "cell_type": "code",
   "execution_count": 89,
   "metadata": {},
   "outputs": [
    {
     "data": {
      "text/html": [
       "<div>\n",
       "<style scoped>\n",
       "    .dataframe tbody tr th:only-of-type {\n",
       "        vertical-align: middle;\n",
       "    }\n",
       "\n",
       "    .dataframe tbody tr th {\n",
       "        vertical-align: top;\n",
       "    }\n",
       "\n",
       "    .dataframe thead th {\n",
       "        text-align: right;\n",
       "    }\n",
       "</style>\n",
       "<table border=\"1\" class=\"dataframe\">\n",
       "  <thead>\n",
       "    <tr style=\"text-align: right;\">\n",
       "      <th></th>\n",
       "      <th>yoe</th>\n",
       "      <th>salary</th>\n",
       "    </tr>\n",
       "  </thead>\n",
       "  <tbody>\n",
       "    <tr>\n",
       "      <th>count</th>\n",
       "      <td>2000.000000</td>\n",
       "      <td>2000.000000</td>\n",
       "    </tr>\n",
       "    <tr>\n",
       "      <th>mean</th>\n",
       "      <td>10.739095</td>\n",
       "      <td>111942.422469</td>\n",
       "    </tr>\n",
       "    <tr>\n",
       "      <th>std</th>\n",
       "      <td>2.989853</td>\n",
       "      <td>45055.817085</td>\n",
       "    </tr>\n",
       "    <tr>\n",
       "      <th>min</th>\n",
       "      <td>1.000000</td>\n",
       "      <td>40000.000000</td>\n",
       "    </tr>\n",
       "    <tr>\n",
       "      <th>25%</th>\n",
       "      <td>8.812255</td>\n",
       "      <td>87938.130895</td>\n",
       "    </tr>\n",
       "    <tr>\n",
       "      <th>50%</th>\n",
       "      <td>10.738822</td>\n",
       "      <td>93376.356875</td>\n",
       "    </tr>\n",
       "    <tr>\n",
       "      <th>75%</th>\n",
       "      <td>12.785483</td>\n",
       "      <td>116978.641550</td>\n",
       "    </tr>\n",
       "    <tr>\n",
       "      <th>max</th>\n",
       "      <td>20.000000</td>\n",
       "      <td>500000.000000</td>\n",
       "    </tr>\n",
       "  </tbody>\n",
       "</table>\n",
       "</div>"
      ],
      "text/plain": [
       "               yoe         salary\n",
       "count  2000.000000    2000.000000\n",
       "mean     10.739095  111942.422469\n",
       "std       2.989853   45055.817085\n",
       "min       1.000000   40000.000000\n",
       "25%       8.812255   87938.130895\n",
       "50%      10.738822   93376.356875\n",
       "75%      12.785483  116978.641550\n",
       "max      20.000000  500000.000000"
      ]
     },
     "execution_count": 89,
     "metadata": {},
     "output_type": "execute_result"
    }
   ],
   "source": [
    "data.describe()"
   ]
  },
  {
   "cell_type": "code",
   "execution_count": 90,
   "metadata": {},
   "outputs": [
    {
     "data": {
      "text/plain": [
       "array([[<matplotlib.axes._subplots.AxesSubplot object at 0x0000023D2779C3C8>,\n",
       "        <matplotlib.axes._subplots.AxesSubplot object at 0x0000023D27783F88>]],\n",
       "      dtype=object)"
      ]
     },
     "execution_count": 90,
     "metadata": {},
     "output_type": "execute_result"
    },
    {
     "data": {
      "image/png": "[encoded data removed]",
      "text/plain": [
       "<Figure size 432x288 with 2 Axes>"
      ]
     },
     "metadata": {},
     "output_type": "display_data"
    }
   ],
   "source": [
    "data.hist()"
   ]
  },
  {
   "cell_type": "code",
   "execution_count": 91,
   "metadata": {},
   "outputs": [
    {
     "data": {
      "text/plain": [
       "<seaborn.axisgrid.JointGrid at 0x23d2773d6c8>"
      ]
     },
     "execution_count": 91,
     "metadata": {},
     "output_type": "execute_result"
    },
    {
     "data": {
      "image/png": "[encoded data removed]",
      "text/plain": [
       "<Figure size 432x432 with 3 Axes>"
      ]
     },
     "metadata": {},
     "output_type": "display_data"
    }
   ],
   "source": [
    "sns.jointplot(x=\"yoe\", y=\"salary\", data=data)"
   ]
  },
  {
   "cell_type": "code",
   "execution_count": 92,
   "metadata": {},
   "outputs": [
    {
     "data": {
      "text/plain": [
       "<seaborn.axisgrid.FacetGrid at 0x23d2790a288>"
      ]
     },
     "execution_count": 92,
     "metadata": {},
     "output_type": "execute_result"
    },
    {
     "data": {
      "image/png": "[encoded data removed]",
      "text/plain": [
       "<Figure size 360x360 with 1 Axes>"
      ]
     },
     "metadata": {},
     "output_type": "display_data"
    }
   ],
   "source": [
    "sns.lmplot(x=\"yoe\", y=\"salary\", data=data)"
   ]
  },
  {
   "cell_type": "code",
   "execution_count": 93,
   "metadata": {},
   "outputs": [],
   "source": [
    "model1= PolynomialFeatures(degree=3, include_bias=False)\n",
    "model2= LinearRegression(fit_intercept=True)\n",
    "\n",
    "# pipeline= Pipeline([(\"Polynomial\", model1), (\"LinearRegression\", model2)]) \n",
    "pipeline= make_pipeline(model1, model2)"
   ]
  },
  {
   "cell_type": "code",
   "execution_count": 94,
   "metadata": {},
   "outputs": [],
   "source": [
    "x= data.loc[:,[\"yoe\"]]\n",
    "y= data.loc[:,\"salary\"]\n",
    "\n",
    "x_train, x_test, y_train, y_test= train_test_split(x,y, test_size=0.4, random_state=42)"
   ]
  },
  {
   "cell_type": "code",
   "execution_count": 95,
   "metadata": {},
   "outputs": [
    {
     "data": {
      "text/plain": [
       "Pipeline(memory=None,\n",
       "         steps=[('polynomialfeatures',\n",
       "                 PolynomialFeatures(degree=3, include_bias=False,\n",
       "                                    interaction_only=False, order='C')),\n",
       "                ('linearregression',\n",
       "                 LinearRegression(copy_X=True, fit_intercept=True, n_jobs=None,\n",
       "                                  normalize=False))],\n",
       "         verbose=False)"
      ]
     },
     "execution_count": 95,
     "metadata": {},
     "output_type": "execute_result"
    }
   ],
   "source": [
    "pipeline.fit(x_train, y_train)"
   ]
  },
  {
   "cell_type": "code",
   "execution_count": 96,
   "metadata": {},
   "outputs": [],
   "source": [
    "preds= pipeline.predict(x_test)"
   ]
  },
  {
   "cell_type": "code",
   "execution_count": 97,
   "metadata": {},
   "outputs": [
    {
     "data": {
      "text/plain": [
       "(0.9991857481644344, 1728195.4332391894)"
      ]
     },
     "execution_count": 97,
     "metadata": {},
     "output_type": "execute_result"
    }
   ],
   "source": [
    "r2= r2_score(y_test, preds)\n",
    "mse= mean_squared_error(y_test, preds)\n",
    "\n",
    "r2, mse"
   ]
  },
  {
   "cell_type": "code",
   "execution_count": 98,
   "metadata": {},
   "outputs": [
    {
     "data": {
      "text/plain": [
       "<matplotlib.axes._subplots.AxesSubplot at 0x23d27b2aa08>"
      ]
     },
     "execution_count": 98,
     "metadata": {},
     "output_type": "execute_result"
    },
    {
     "data": {
      "image/png": "[encoded data removed]",
      "text/plain": [
       "<Figure size 432x288 with 1 Axes>"
      ]
     },
     "metadata": {},
     "output_type": "display_data"
    }
   ],
   "source": [
    "sns.kdeplot(y_test-preds)"
   ]
  },
  {
   "cell_type": "code",
   "execution_count": 99,
   "metadata": {},
   "outputs": [
    {
     "data": {
      "text/html": [
       "<div>\n",
       "<style scoped>\n",
       "    .dataframe tbody tr th:only-of-type {\n",
       "        vertical-align: middle;\n",
       "    }\n",
       "\n",
       "    .dataframe tbody tr th {\n",
       "        vertical-align: top;\n",
       "    }\n",
       "\n",
       "    .dataframe thead th {\n",
       "        text-align: right;\n",
       "    }\n",
       "</style>\n",
       "<table border=\"1\" class=\"dataframe\">\n",
       "  <thead>\n",
       "    <tr style=\"text-align: right;\">\n",
       "      <th></th>\n",
       "      <th>X</th>\n",
       "      <th>y</th>\n",
       "    </tr>\n",
       "  </thead>\n",
       "  <tbody>\n",
       "    <tr>\n",
       "      <th>452</th>\n",
       "      <td>2.450875</td>\n",
       "      <td>67276.568732</td>\n",
       "    </tr>\n",
       "    <tr>\n",
       "      <th>669</th>\n",
       "      <td>2.761983</td>\n",
       "      <td>71304.832328</td>\n",
       "    </tr>\n",
       "    <tr>\n",
       "      <th>532</th>\n",
       "      <td>3.519210</td>\n",
       "      <td>78914.715961</td>\n",
       "    </tr>\n",
       "    <tr>\n",
       "      <th>717</th>\n",
       "      <td>3.649798</td>\n",
       "      <td>79941.083043</td>\n",
       "    </tr>\n",
       "    <tr>\n",
       "      <th>209</th>\n",
       "      <td>3.834124</td>\n",
       "      <td>81259.419993</td>\n",
       "    </tr>\n",
       "  </tbody>\n",
       "</table>\n",
       "</div>"
      ],
      "text/plain": [
       "            X             y\n",
       "452  2.450875  67276.568732\n",
       "669  2.761983  71304.832328\n",
       "532  3.519210  78914.715961\n",
       "717  3.649798  79941.083043\n",
       "209  3.834124  81259.419993"
      ]
     },
     "execution_count": 99,
     "metadata": {},
     "output_type": "execute_result"
    }
   ],
   "source": [
    "pred_df= pd.DataFrame({\"X\": x_test.to_numpy().reshape((-1,)), \"y\": preds})\n",
    "pred_df.sort_values(by='X', axis=0, inplace=True)\n",
    "pred_df.head()"
   ]
  },
  {
   "cell_type": "code",
   "execution_count": 100,
   "metadata": {},
   "outputs": [
    {
     "data": {
      "text/plain": [
       "[<matplotlib.lines.Line2D at 0x23d27b5d0c8>]"
      ]
     },
     "execution_count": 100,
     "metadata": {},
     "output_type": "execute_result"
    },
    {
     "data": {
      "image/png": "[encoded data removed]",
      "text/plain": [
       "<Figure size 432x288 with 1 Axes>"
      ]
     },
     "metadata": {},
     "output_type": "display_data"
    }
   ],
   "source": [
    "plt.scatter(x_test,y_test,c=\"r\")\n",
    "plt.plot(pred_df['X'], pred_df[\"y\"], c='b')"
   ]
  },
  {
   "cell_type": "code",
   "execution_count": 101,
   "metadata": {},
   "outputs": [
    {
     "data": {
      "text/plain": [
       "array([89531.90276759])"
      ]
     },
     "execution_count": 101,
     "metadata": {},
     "output_type": "execute_result"
    }
   ],
   "source": [
    "# Prediciton\n",
    "\n",
    "inputs= [[10]]\n",
    "\n",
    "pipeline.predict(inputs)"
   ]
  }
 ],
 "metadata": {
  "kernelspec": {
   "display_name": "Python 3",
   "language": "python",
   "name": "python3"
  },
  "language_info": {
   "codemirror_mode": {
    "name": "ipython",
    "version": 3
   },
   "file_extension": ".py",
   "mimetype": "text/x-python",
   "name": "python",
   "nbconvert_exporter": "python",
   "pygments_lexer": "ipython3",
   "version": "3.7.6"
  }
 },
 "nbformat": 4,
 "nbformat_minor": 4
}
